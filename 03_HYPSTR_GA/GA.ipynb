{
 "cells": [
  {
   "cell_type": "code",
   "execution_count": 2,
   "metadata": {},
   "outputs": [],
   "source": [
    "import numpy as np\n",
    "import pandas as pd\n",
    "import random\n"
   ]
  },
  {
   "cell_type": "code",
   "execution_count": 22,
   "metadata": {
    "tags": []
   },
   "outputs": [
    {
     "output_type": "execute_result",
     "data": {
      "text/plain": "array([[6.6300e+00, 1.8513e+01, 2.2819e+01, 3.5005e+01, 4.1589e+01,\n        5.2639e+01, 4.0950e+00, 4.5720e+00, 5.1470e+00, 7.0100e+00,\n        7.5170e+00, 8.2700e+00, 2.7710e+00, 3.5590e+00, 4.1110e+00,\n        4.5260e+00, 5.0560e+00, 5.5260e+00, 4.7260e-03],\n       [9.4850e+00, 1.8349e+01, 2.8679e+01, 4.1680e+01, 5.3823e+01,\n        6.4779e+01, 4.1760e+00, 4.9990e+00, 6.4000e+00, 6.5160e+00,\n        7.4430e+00, 8.1590e+00, 2.9100e+00, 3.8580e+00, 4.1090e+00,\n        4.7880e+00, 5.1190e+00, 5.3940e+00, 4.7811e-03],\n       [8.9670e+00, 1.5527e+01, 2.6834e+01, 3.6281e+01, 4.0470e+01,\n        4.9666e+01, 4.0180e+00, 4.4700e+00, 5.9240e+00, 6.5100e+00,\n        7.3050e+00, 8.3160e+00, 2.7390e+00, 3.9120e+00, 4.1350e+00,\n        4.6420e+00, 5.0450e+00, 5.5030e+00, 4.8695e-03],\n       [5.1370e+00, 1.1543e+01, 2.1610e+01, 2.5290e+01, 3.1020e+01,\n        4.5330e+01, 4.0170e+00, 4.4180e+00, 5.4330e+00, 6.9800e+00,\n        7.5270e+00, 8.2570e+00, 2.5370e+00, 3.5770e+00, 4.3530e+00,\n        4.2240e+00, 5.0670e+00, 5.6310e+00, 4.5672e-03],\n       [8.3280e+00, 1.8155e+01, 2.3438e+01, 2.8550e+01, 3.7380e+01,\n        4.5239e+01, 4.0420e+00, 4.5950e+00, 5.2430e+00, 6.7210e+00,\n        7.2010e+00, 8.2890e+00, 2.9200e+00, 3.5350e+00, 4.0250e+00,\n        4.3660e+00, 5.0420e+00, 5.5410e+00, 4.5524e-03]])"
     },
     "metadata": {},
     "execution_count": 22
    }
   ],
   "source": [
    "gene=5\n",
    "infile = \"log.dat\"\n",
    "infile2 = \"output_SIG_2.dat\"\n",
    "sig = np.loadtxt(infile)\n",
    "sig2 = np.loadtxt(infile2)\n",
    "sig = np.hstack([sig,sig2.reshape(gene,1)])\n",
    "sig = sig[~np.isnan(sig).any(axis=1), :]\n",
    "sig\n",
    "\n"
   ]
  },
  {
   "cell_type": "code",
   "execution_count": 24,
   "metadata": {
    "tags": []
   },
   "outputs": [
    {
     "output_type": "stream",
     "name": "stdout",
     "text": "0.0045524\n4\n[8.3280e+00 1.8155e+01 2.3438e+01 2.8550e+01 3.7380e+01 4.5239e+01\n 4.0420e+00 4.5950e+00 5.2430e+00 6.7210e+00 7.2010e+00 8.2890e+00\n 2.9200e+00 3.5350e+00 4.0250e+00 4.3660e+00 5.0420e+00 5.5410e+00\n 4.5524e-03]\n"
    }
   ],
   "source": [
    "minvalue = np.min(sig[:,18])\n",
    "minrow = np.argmin(sig[:,18])\n",
    "print(minvalue)\n",
    "print(minrow)\n",
    "print(sig[minrow])"
   ]
  },
  {
   "cell_type": "code",
   "execution_count": 49,
   "metadata": {},
   "outputs": [],
   "source": [
    "# 選択パート\n",
    "# 世代数の1/Nを抽出して最も誤差が小さい物を探す。(トーナメント選択)\n",
    "def selection(gene, sig, proportion) :\n",
    "    for i in range(0, int(round(gene/proportion,0))) :\n",
    "        if i == 0 :\n",
    "            a = random.randint(0, len(sig))\n",
    "            select_matrix = sig[a]\n",
    "            sig = np.delete(sig, a, 0)\n",
    "        else :\n",
    "            a = random.randint(0, len(sig))\n",
    "            select_matrix = np.vstack([select_matrix,sig[a]])\n",
    "            sig = np.delete(sig, a, 0)\n",
    "    minrow = np.argmin(select_matrix[:,8])\n",
    "    result = select_matrix[minrow]\n",
    "    return result.reshape(1,11)"
   ]
  },
  {
   "cell_type": "code",
   "execution_count": 50,
   "metadata": {
    "tags": []
   },
   "outputs": [],
   "source": [
    "a = selection(1000, sig, 10)\n",
    "np.savetxt(\"out.csv\", a, fmt=\"%9f\", delimiter=\",\")\n"
   ]
  },
  {
   "cell_type": "code",
   "execution_count": 41,
   "metadata": {},
   "outputs": [],
   "source": [
    "# 交叉パート\n",
    "def kousa(gene, sig)\n",
    "    # ランダムに2つ選択する\n",
    "    \n",
    "\n",
    "    \n",
    "\n"
   ]
  },
  {
   "cell_type": "code",
   "execution_count": 42,
   "metadata": {},
   "outputs": [],
   "source": [
    "# 突然変異パート\n"
   ]
  },
  {
   "cell_type": "code",
   "execution_count": 43,
   "metadata": {},
   "outputs": [
    {
     "output_type": "error",
     "ename": "NameError",
     "evalue": "name 'main' is not defined",
     "traceback": [
      "\u001b[0;31m---------------------------------------------------------------------------\u001b[0m",
      "\u001b[0;31mNameError\u001b[0m                                 Traceback (most recent call last)",
      "\u001b[0;32m<ipython-input-43-972361fa1b80>\u001b[0m in \u001b[0;36m<module>\u001b[0;34m\u001b[0m\n\u001b[1;32m      1\u001b[0m \u001b[0;32mif\u001b[0m \u001b[0m__name__\u001b[0m \u001b[0;34m==\u001b[0m \u001b[0;34m\"__main__\"\u001b[0m\u001b[0;34m:\u001b[0m\u001b[0;34m\u001b[0m\u001b[0;34m\u001b[0m\u001b[0m\n\u001b[0;32m----> 2\u001b[0;31m     \u001b[0mmain\u001b[0m\u001b[0;34m(\u001b[0m\u001b[0;34m)\u001b[0m\u001b[0;34m\u001b[0m\u001b[0;34m\u001b[0m\u001b[0m\n\u001b[0m",
      "\u001b[0;31mNameError\u001b[0m: name 'main' is not defined"
     ]
    }
   ],
   "source": [
    "if __name__ == \"__main__\":\n",
    "    main()"
   ]
  }
 ],
 "metadata": {
  "language_info": {
   "codemirror_mode": {
    "name": "ipython",
    "version": 3
   },
   "file_extension": ".py",
   "mimetype": "text/x-python",
   "name": "python",
   "nbconvert_exporter": "python",
   "pygments_lexer": "ipython3",
   "version": "3.7.0-final"
  },
  "orig_nbformat": 2,
  "kernelspec": {
   "name": "python_defaultSpec_1595045678921",
   "display_name": "Python 3.6.10 64-bit ('pygmt': conda)"
  }
 },
 "nbformat": 4,
 "nbformat_minor": 2
}